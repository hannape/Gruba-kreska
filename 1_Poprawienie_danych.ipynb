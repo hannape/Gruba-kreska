{
  "nbformat": 4,
  "nbformat_minor": 0,
  "metadata": {
    "colab": {
      "name": "1. Poprawienie danych.ipynb",
      "provenance": [],
      "authorship_tag": "ABX9TyM3sE49ivMt+9LY7UYI8Ay8",
      "include_colab_link": true
    },
    "kernelspec": {
      "name": "python3",
      "display_name": "Python 3"
    }
  },
  "cells": [
    {
      "cell_type": "markdown",
      "metadata": {
        "id": "view-in-github",
        "colab_type": "text"
      },
      "source": [
        "<a href=\"https://colab.research.google.com/github/hannape/Gruba-kreska/blob/main/1_Poprawienie_danych.ipynb\" target=\"_parent\"><img src=\"https://colab.research.google.com/assets/colab-badge.svg\" alt=\"Open In Colab\"/></a>"
      ]
    },
    {
      "cell_type": "markdown",
      "metadata": {
        "id": "X_OafZSEsrtg"
      },
      "source": [
        "Jeszcze przed wczytywaniem danych, trzeba sprawdzić co się dzieje w etykietach, które są negatywne, które pozytywne, czy nie ma literówek, spacji itd. By na pewno było wiadomo która etykieta idzie jako negative a która jako positive\n"
      ]
    },
    {
      "cell_type": "code",
      "metadata": {
        "id": "7hvkczZq732X",
        "colab": {
          "base_uri": "https://localhost:8080/"
        },
        "outputId": "151b2451-250e-4021-9e81-29e950c3e5f8"
      },
      "source": [
        "# Wczytywanie google drive'a\n",
        "from google.colab import drive\n",
        "drive.mount('/content/drive')\n",
        "from __future__ import print_function"
      ],
      "execution_count": 1,
      "outputs": [
        {
          "output_type": "stream",
          "text": [
            "Mounted at /content/drive\n"
          ],
          "name": "stdout"
        }
      ]
    },
    {
      "cell_type": "code",
      "metadata": {
        "id": "-D2sJpmNUGbQ"
      },
      "source": [
        "import os\n",
        "import contextlib\n",
        "import numpy as np\n",
        "import wave\n",
        "import math"
      ],
      "execution_count": 24,
      "outputs": []
    },
    {
      "cell_type": "code",
      "metadata": {
        "id": "txJYdglADvMW"
      },
      "source": [
        "# Parametry które będą wchodzić do funkcji\n",
        "\n",
        "path_test1618_txt = 'drive/My Drive/poprawione etykiety 24112020/testowe/'\n",
        "path_train161718_txt =  'drive/My Drive/poprawione etykiety 24112020/treningowe/'\n",
        "path_test1618_wav = 'drive/My Drive/testowe_1618/'\n",
        "path_train161718_wav =  'drive/My Drive/treningowe94_161718/'\n",
        "balance_type = ['balanced', 'valid', 'full_rec']  # na potrzeby treningu, valida, testu\n",
        "chunk_length_ms = 500 # 500 ms\n",
        "chunk_overlap = 150 # 150 ms"
      ],
      "execution_count": 25,
      "outputs": []
    },
    {
      "cell_type": "markdown",
      "metadata": {
        "id": "MIUsyYyKI6_d"
      },
      "source": [
        "Krok 1. Sprawdzić jakie etykiety w ogóle mam we wszystkich nagraniach. By wiedzieć co wyciąć i uznać za negatywne, a co uznać za pozytywne (bo moga być jakieś literówki, podwójne spacje, itd)\n",
        "\n"
      ]
    },
    {
      "cell_type": "code",
      "metadata": {
        "id": "cCr52ecuOMd8"
      },
      "source": [
        "def my_read_labels(label_name,path_txt):\n",
        "    '''Wczytuje etykiety czasowe z pliku labels.txt w folderze train.\n",
        "    \n",
        "    Returns:\n",
        "        ndarray: Tablica z etykietami czasowymi zawierająca kolumny:  sekunda początku dźwięku, sekunda końca dźwięku, gatunek.\n",
        "    '''\n",
        "    labels = []\n",
        "    with open(os.path.join(path_txt, label_name + '.txt'), 'r') as file:\n",
        "        text = file.read()\n",
        "        for line in text.split('\\n')[0:]:\n",
        "            if len(line) > 1:\n",
        "                start, stop, spec = line.split('\\t')\n",
        "                #print(start)\n",
        "                start, stop, spec = float(start), float(stop), str(spec),\n",
        "                labels.append([start, stop, spec])\n",
        "    return np.array(labels)\n",
        "\n",
        "\n",
        "def my_load_train(path_wav, path_txt): \n",
        "  X_train, y_train = [], []\n",
        "  recording_labels_all = []\n",
        "  in_which_recording = []\n",
        "\n",
        "  rec_files = [file_name for file_name in os.listdir(path_wav) if file_name.endswith('.wav')]\n",
        "  years = ['2016','2017','2018']\n",
        "  files_sorted = []\n",
        "\n",
        "  for year in years:\n",
        "    i_201x = [i for i,s in enumerate(rec_files) if year in s]\n",
        "    n_201x = sorted(rec_files[index] for index in i_201x)\n",
        "    files_sorted = files_sorted + n_201x\n",
        "\n",
        "  print(files_sorted)\n",
        "  for file_name in files_sorted:\n",
        "      \n",
        "      print(\"------------Analiza nagrania: \" + file_name + \"-----------\")\n",
        "      recording_id = str(file_name.split('.')[0])\n",
        "      '''if (file_name==\"BUK4_20171001_020404a.wav\"):\n",
        "        rok = \"7\"\n",
        "      if (file_name==\"BUK4_20181029_235604.wav\"):\n",
        "        rok = \"8\"  \n",
        "      source_npz = \"/content/drive/My Drive/nobirds_chunks/repr7_201\" + rok + \"/\"\n",
        "      ## wczytanie plików, skąd można wziąc nr próbek losowych do balanced dataset\n",
        "      dane1 = np.load(source_npz + 'Kopia '+ recording_id + '_7rep.npz' )\n",
        "      nobirds_chunks = dane1[\"nobirds_chunks\"] \n",
        "      print(np.shape(nobirds_chunks)) '''\n",
        "      \n",
        "      fname = path_wav + file_name      #print(fname)\n",
        "      with contextlib.closing(wave.open(fname,'r')) as f:\n",
        "          frames = f.getnframes()\n",
        "          rate = f.getframerate()\n",
        "          duration = frames / float(rate)\n",
        "          recording_duration = math.ceil(duration)\n",
        "          print(\"Czas trwania nagrania - w sekundach: \" + str(recording_duration))\n",
        "    \n",
        "      recording_id = (file_name.split('.')[0])       #print(recording_id)\n",
        "      recording_labels = my_read_labels(recording_id, path_txt)    \n",
        "      #print(recording_labels[:,2])\n",
        "      #print(type(recording_labels[:,2]))\n",
        "      #print(np.shape(recording_labels))\n",
        "      #print((recording_labels[:,2].split))\n",
        "      #a = recording_labels[:,2]\n",
        "      if np.shape(recording_labels)[0]>0:\n",
        "        recording_labels_all.extend(recording_labels[:,2])\n",
        "        in_which_recording.extend([file_name]*np.shape(recording_labels[:,2])[0])\n",
        "      print(np.shape(recording_labels_all))\n",
        "      print(np.shape(in_which_recording))\n",
        "  return (recording_labels_all, in_which_recording)"
      ],
      "execution_count": 66,
      "outputs": []
    },
    {
      "cell_type": "code",
      "metadata": {
        "cellView": "form",
        "id": "VvmR06S5MFZ_"
      },
      "source": [
        "#@title\n",
        "## Na razie nieużywana funkcja, będzie użyta potem\n",
        "\n",
        "def my_map_seconds_to_y(labels, recording_duration):  ## Chcemy 500 ms z 150 ms overlapem\n",
        "    '''Tworzy etykiety dla każdego kolejnego chunksa. 1 gdy co najmniej 4 ms etykiety się znajdują w chunksie (gdy urwane dźwięki na brzegach, <4ms - to 0).\n",
        "    \n",
        "    Args:\n",
        "        labels (ndarray): Tablica z etykietami, której 1 kolumna oznacza początek, a druga - koniec nagrania.\n",
        "    Returns:\n",
        "        ndarray: Tablica z binarnymi etykietami.\n",
        "    '''\n",
        "    #calls_to_cut = ['t', 't?', 't ','t  ', 'g', 'czapla', 'gh', 'g cz', 'puszczyk','gaski','g?','mewa?','zwierzak?','high freq','g niskie','??? mysz']\n",
        "    \n",
        "    '''\n",
        "    duration_in_ms = recording_duration*1000\n",
        "    nr_of_chunks =  1 + (duration_in_ms - chunk_length_ms) / (chunk_length_ms - chunk_overlap)\n",
        "    print(\"chunksy!!\")\n",
        "    print(nr_of_chunks)  \n",
        "    \n",
        "    y = [0] * math.ceil(nr_of_chunks)             # recording_duration \n",
        "    y_restrictive = [0] * math.ceil(nr_of_chunks) # recording_duration\n",
        "    for s in range(math.ceil(nr_of_chunks)):\n",
        "        for l in labels:\n",
        "            if my_check_voices(s*0.35, l):\n",
        "                y[s] = 1\n",
        "                #print(s*0.35)\n",
        "                if l[2] in calls_to_cut:\n",
        "                  y[s] = 0\n",
        "                 # print(\"Labele1: \" + l[2]) \n",
        "            if my_check_voices(s*0.35, l, 0.004): # 0.02\n",
        "                y_restrictive[s] = 1\n",
        "                if l[2] in calls_to_cut:\n",
        "                  y_restrictive[s] = 0\n",
        "                  #print(\"wyciety glos:\")\n",
        "                  #print(l[2])\n",
        "                  \n",
        "                 # print(\"Labele2: \" + l[2]) \n",
        "        if y[s] != y_restrictive[s]:\n",
        "            y[s] = 0 # -1 jeśli mniej niż 4 ms fragment, to zakładamy że tam go nie ma...          \n",
        "   \n",
        "    return y    \n",
        "    '''"
      ],
      "execution_count": null,
      "outputs": []
    },
    {
      "cell_type": "code",
      "metadata": {
        "id": "XJPlObv-wA_n"
      },
      "source": [
        "calls_0 = ['t', 'g', 'czapla', 'gh', 'puszczyk']                                    # etykiety które są negatywne\n",
        "calls_1 = ['d', 'd?', 'k', 'k?', 'kwiczol', 'r','r?', 's', 's?', 'skowronek', 'ni'] # calls of interest\n",
        "calls_unknown = ['???','??? mysz', '??? high freq']                                 # unknown, nie wiem czy to głos czy nie, więc będę wyrzucać te chunksy to zawierające"
      ],
      "execution_count": 33,
      "outputs": []
    },
    {
      "cell_type": "markdown",
      "metadata": {
        "id": "hbO7pZg_L1UH"
      },
      "source": [
        "**TRENINGOWE**"
      ]
    },
    {
      "cell_type": "code",
      "metadata": {
        "id": "Y9EeRrKLT4b9"
      },
      "source": [
        "recording_labels_all, in_which_recording = my_load_train(path_train161718_wav, path_train161718_txt)  # wyznaczenie wszystkich labeli z próbek treningowych"
      ],
      "execution_count": null,
      "outputs": []
    },
    {
      "cell_type": "code",
      "metadata": {
        "id": "FHiGNEyj2KZL"
      },
      "source": [
        "from collections import Counter\n",
        "counted_labels = Counter(recording_labels_all)"
      ],
      "execution_count": 29,
      "outputs": []
    },
    {
      "cell_type": "markdown",
      "metadata": {
        "id": "BxK7bu8sxYnv"
      },
      "source": [
        "**Fragment tekstowy opisujący jak wyglądały etykiety w trainie wcześniej i teraz**\n",
        "\n",
        "Bez poprawy, stare etykiety wyglądały tak:\n",
        "\n",
        "```\n",
        "Counter({'': 3,\n",
        "         '?': 1,\n",
        "         '???': 61,\n",
        "         '??? mysz': 8,\n",
        "         '?????': 1,    - głosy ok, 1\n",
        "         '??????': 5,   - głosy ok, 1\n",
        "         'a?': 11,\n",
        "         'czapla': 1,\n",
        "         'd': 145,\n",
        "         'd ': 1,\n",
        "         'd?': 17,\n",
        "         'd???': 1,\n",
        "         'g': 55,\n",
        "         'g cz': 2,\n",
        "         'g niskie': 1,\n",
        "         'g?': 2,\n",
        "         'g???': 1,\n",
        "         'gaski': 2,\n",
        "         'gh': 73,\n",
        "         'high freq': 1,\n",
        "         'k': 612,\n",
        "         'k?': 42,\n",
        "         'k???': 1,\n",
        "         'kwiczol': 14,\n",
        "         'mewa?': 3,\n",
        "         'ni': 74,\n",
        "         'puszczyk': 7,\n",
        "         'r': 27,\n",
        "         'r?': 49,\n",
        "         'reg?': 2,\n",
        "         's': 3413,\n",
        "         's ': 1,\n",
        "         's?': 120,\n",
        "         's???': 4,\n",
        "         's?r?': 2,\n",
        "         'skowronek': 15,\n",
        "         't': 53,\n",
        "         't?': 9,\n",
        "         'zwierzak?': 1})\n",
        "\n",
        "```\n",
        "\n",
        "Trzeba sprawdzić i ustalić co zrobić z  '?' , '???', '?????', '??????', 'a?', 'g?', 'g???'\n",
        "\n",
        "Pierwsza poprawa, 24.11:\n",
        "\n",
        "```\n",
        "Counter({'': 4,\n",
        "         '???': 227,\n",
        "         '??? mysz': 7,\n",
        "         'czapla': 1,\n",
        "         'd': 146,\n",
        "         'd ': 1,\n",
        "         'd?': 21,\n",
        "         'g': 258,\n",
        "         'g cz': 2,\n",
        "         'gaski': 1,\n",
        "         'gh': 99,\n",
        "         'high freq': 1,\n",
        "         'k': 626,\n",
        "         'k  ': 1,\n",
        "         'k?': 46,\n",
        "         'kwiczol': 14,\n",
        "         'ni': 186,\n",
        "         'puszczyk': 1,\n",
        "         'r': 37,\n",
        "         'r?': 52,\n",
        "         's': 3523,\n",
        "         's ': 1,\n",
        "         's?': 127,\n",
        "         'skowronek': 26,\n",
        "         't': 1344,\n",
        "         't?': 3})\n",
        "         \n",
        "```\n",
        "\n",
        "poprawa poprawionych 24.11, wersja ostateczna labeli:\n",
        "```\n",
        "Counter({'???': 227,\n",
        "         '??? high freq': 1,\n",
        "         '??? mysz': 7,\n",
        "         'czapla': 3,\n",
        "         'd': 147,\n",
        "         'd?': 21,\n",
        "         'g': 260,\n",
        "         'gh': 99,\n",
        "         'k': 628,\n",
        "         'k?': 46,\n",
        "         'kwiczol': 14,\n",
        "         'ni': 187,\n",
        "         'puszczyk': 1,\n",
        "         'r': 37,\n",
        "         'r?': 52,\n",
        "         's': 3524,\n",
        "         's?': 128,\n",
        "         'skowronek': 26,\n",
        "         't': 1346})\n",
        "         ```\n"
      ]
    },
    {
      "cell_type": "code",
      "metadata": {
        "id": "VakQVqW6qikg"
      },
      "source": [
        "# fragment do znalezienia w jakich nagraniach i próbkach jest dana etykieta\n",
        "\n",
        "elem = 'k'\n",
        "\n",
        "index_pos_list = [ i for i in range(len(recording_labels_all)) if recording_labels_all[i] == elem ]\n",
        "res_list = [in_which_recording[i] for i in index_pos_list] \n",
        "print('Indexes of all occurrences of label ', elem,' in the list are : ', index_pos_list)\n",
        "print('They are in recordings: ', res_list)\n",
        "Counter(res_list)"
      ],
      "execution_count": null,
      "outputs": []
    },
    {
      "cell_type": "code",
      "metadata": {
        "id": "xvr47QEUrJEm",
        "cellView": "form"
      },
      "source": [
        "#@title\n",
        "file_name = 'BUK4_20171001_020404a'\n",
        "abc = ['aaa', 'wefd']\n",
        "abc.extend([file_name]*4)\n",
        "print(abc)"
      ],
      "execution_count": null,
      "outputs": []
    },
    {
      "cell_type": "code",
      "metadata": {
        "colab": {
          "base_uri": "https://localhost:8080/"
        },
        "id": "ycTwZcK35yET",
        "outputId": "3e380f92-c575-43bf-fa59-7f5e610b356c"
      },
      "source": [
        "count_positives = 0\n",
        "count_negatives = 0\n",
        "count_unknown = 0\n",
        "\n",
        "for calls in calls_1:\n",
        "  count_positives += counted_labels[calls]\n",
        "\n",
        "for calls in calls_0:\n",
        "  count_negatives += counted_labels[calls]\n",
        "\n",
        "for calls in calls_unknown:\n",
        "  count_unknown += counted_labels[calls]    \n",
        "\n",
        "cztery_gat = counted_labels['s']+counted_labels['s?'] + counted_labels['k']+counted_labels['k?'] +counted_labels['d']+counted_labels['d?'] + counted_labels['r']+counted_labels['r?']\n",
        "\n",
        "print('Liczba pozytywnych etykiet: ', count_positives)\n",
        "print('Liczba negatywnych etykiet: ', count_negatives)\n",
        "print('Liczba nieznanych etykiet: ', count_unknown)\n",
        "print('Stosunek gatunków w zbiorze treningowym:')\n",
        "print('-   bezwzględne s:k:d:r - ', counted_labels['s']+counted_labels['s?'],':', counted_labels['k']+counted_labels['k?'],':', counted_labels['d']+counted_labels['d?'],':', counted_labels['r']+counted_labels['r?'])\n",
        "print('-   procentowe s:k:d:r - ', round(100*(counted_labels['s']+counted_labels['s?'])/count_positives,1),':',\n",
        "      round(100*(counted_labels['k']+counted_labels['k?'])/count_positives,1),':',\n",
        "      round(100*(counted_labels['d']+counted_labels['d?'])/count_positives,1),':',\n",
        "      round(100*(counted_labels['r']+counted_labels['r?'])/count_positives,1))\n",
        "print('te 4 gatuny odpowiadają za ', round(100*cztery_gat/count_positives,2),'% wszystkich pozytywnych etykiet w zbiorze')"
      ],
      "execution_count": 61,
      "outputs": [
        {
          "output_type": "stream",
          "text": [
            "Liczba pozytywnych etykiet:  4810\n",
            "Liczba negatywnych etykiet:  1709\n",
            "Liczba nieznanych etykiet:  235\n",
            "Stosunek gatunków w zbiorze treningowym:\n",
            "-   bezwzględne s:k:d:r -  3652 : 674 : 168 : 89\n",
            "-   procentowe s:k:d:r -  75.9 : 14.0 : 3.5 : 1.9\n",
            "te 4 gatuny odpowiadają za  95.28 % wszystkich pozytywnych etykiet w zbiorze\n"
          ],
          "name": "stdout"
        }
      ]
    },
    {
      "cell_type": "markdown",
      "metadata": {
        "id": "mcGg8W3aLxlQ"
      },
      "source": [
        "**TESTOWE**"
      ]
    },
    {
      "cell_type": "code",
      "metadata": {
        "id": "dWgzQ7NP50Y-"
      },
      "source": [
        "recording_labels_all, in_which_recording = my_load_train(path_test1618_wav, path_test1618_txt)"
      ],
      "execution_count": null,
      "outputs": []
    },
    {
      "cell_type": "code",
      "metadata": {
        "id": "H8oN2ili_NpO"
      },
      "source": [
        "from collections import Counter\n",
        "counted_labels = Counter(recording_labels_all)"
      ],
      "execution_count": 74,
      "outputs": []
    },
    {
      "cell_type": "code",
      "metadata": {
        "colab": {
          "base_uri": "https://localhost:8080/"
        },
        "id": "-aREL9il_5-B",
        "outputId": "71ac5d30-6415-4baa-b475-a2b30d79ba48"
      },
      "source": [
        "print(counted_labels)"
      ],
      "execution_count": 75,
      "outputs": [
        {
          "output_type": "stream",
          "text": [
            "Counter({'k': 373, 't': 360, 's': 264, '???': 89, 'g': 72, 'ni': 57, 's?': 33, 'k?': 26, 'r': 16, 'd': 14, 'd?': 6, 'r?': 4, 'skowronek?': 1})\n"
          ],
          "name": "stdout"
        }
      ]
    },
    {
      "cell_type": "code",
      "metadata": {
        "colab": {
          "base_uri": "https://localhost:8080/"
        },
        "id": "7eMxiOMe_-iG",
        "outputId": "b717c0cd-9792-4a83-98d5-a220f75654d5"
      },
      "source": [
        "count_positives = 0\n",
        "count_negatives = 0\n",
        "count_unknown = 0\n",
        "\n",
        "for calls in calls_1:\n",
        "  count_positives += counted_labels[calls]\n",
        "\n",
        "for calls in calls_0:\n",
        "  count_negatives += counted_labels[calls]\n",
        "\n",
        "for calls in calls_unknown:\n",
        "  count_unknown += counted_labels[calls]    \n",
        "\n",
        "cztery_gat = counted_labels['s']+counted_labels['s?'] + counted_labels['k']+counted_labels['k?'] +counted_labels['d']+counted_labels['d?'] + counted_labels['r']+counted_labels['r?']\n",
        "\n",
        "print('Liczba pozytywnych etykiet: ', count_positives)\n",
        "print('Liczba negatywnych etykiet: ', count_negatives)\n",
        "print('Liczba nieznanych etykiet: ', count_unknown)\n",
        "print('Stosunek gatunków w zbiorze testowym:')\n",
        "print('-   bezwzględne s:k:d:r - ', counted_labels['s']+counted_labels['s?'],':', counted_labels['k']+counted_labels['k?'],':', counted_labels['d']+counted_labels['d?'],':', counted_labels['r']+counted_labels['r?'])\n",
        "print('-   procentowe s:k:d:r - ', round(100*(counted_labels['s']+counted_labels['s?'])/count_positives,1),':',\n",
        "      round(100*(counted_labels['k']+counted_labels['k?'])/count_positives,1),':',\n",
        "      round(100*(counted_labels['d']+counted_labels['d?'])/count_positives,1),':',\n",
        "      round(100*(counted_labels['r']+counted_labels['r?'])/count_positives,1))\n",
        "print('te 4 gatuny odpowiadają za ', round(100*cztery_gat/count_positives,2),'% wszystkich pozytywnych etykiet w zbiorze')"
      ],
      "execution_count": 76,
      "outputs": [
        {
          "output_type": "stream",
          "text": [
            "Liczba pozytywnych etykiet:  793\n",
            "Liczba negatywnych etykiet:  432\n",
            "Liczba nieznanych etykiet:  89\n",
            "Stosunek gatunków w zbiorze testowym:\n",
            "-   bezwzględne s:k:d:r -  297 : 399 : 20 : 20\n",
            "-   procentowe s:k:d:r -  37.5 : 50.3 : 2.5 : 2.5\n",
            "te 4 gatuny odpowiadają za  92.81 % wszystkich pozytywnych etykiet w zbiorze\n"
          ],
          "name": "stdout"
        }
      ]
    },
    {
      "cell_type": "code",
      "metadata": {
        "colab": {
          "base_uri": "https://localhost:8080/"
        },
        "id": "6vhSdHOSBZ7D",
        "outputId": "41930cdd-e6b0-4f05-cbe3-ccbb7211dd9c"
      },
      "source": [
        "count_positives2 = count_positives - 314\n",
        "cztery_gat2 = cztery_gat - 314\n",
        "print('Jeśli byśmy usunęli ze zbioru testowego nagranie BUK5_20161101_002104a i BUK5_20161101_002104b, to byśmy otrzymali:')\n",
        "print('-   bezwzględne s:k:d:r - ', counted_labels['s']+counted_labels['s?'],':', counted_labels['k']+counted_labels['k?']-314,':', counted_labels['d']+counted_labels['d?'],':', counted_labels['r']+counted_labels['r?'])\n",
        "print('-   procentowe s:k:d:r - ', round(100*(counted_labels['s']+counted_labels['s?'])/count_positives2,1),':',\n",
        "      round(100*(counted_labels['k']+counted_labels['k?']-314)/count_positives2,1),':',\n",
        "      round(100*(counted_labels['d']+counted_labels['d?'])/count_positives2,1),':',\n",
        "      round(100*(counted_labels['r']+counted_labels['r?'])/count_positives2,1))\n",
        "print('te 4 gatuny odpowiadają za ', round(100*cztery_gat2/count_positives2,2),'% wszystkich pozytywnych etykiet w zbiorze')"
      ],
      "execution_count": 79,
      "outputs": [
        {
          "output_type": "stream",
          "text": [
            "Jeśli byśmy usunęli ze zbioru testowego nagranie BUK5_20161101_002104a i BUK5_20161101_002104b, to :\n",
            "-   bezwzględne s:k:d:r -  297 : 85 : 20 : 20\n",
            "-   procentowe s:k:d:r -  62.0 : 17.7 : 4.2 : 4.2\n",
            "te 4 gatuny odpowiadają za  88.1 % wszystkich pozytywnych etykiet w zbiorze\n"
          ],
          "name": "stdout"
        }
      ]
    },
    {
      "cell_type": "code",
      "metadata": {
        "colab": {
          "base_uri": "https://localhost:8080/"
        },
        "id": "bWvD91W0CzsO",
        "outputId": "08de3f70-6486-4774-f418-08eb4b2ec314"
      },
      "source": [
        "duration_in_ms = 1799*1000\n",
        "nr_of_chunks =  1 + (duration_in_ms - chunk_length_ms) / (chunk_length_ms - chunk_overlap)\n",
        "print(nr_of_chunks)"
      ],
      "execution_count": 82,
      "outputs": [
        {
          "output_type": "stream",
          "text": [
            "5139.571428571428\n"
          ],
          "name": "stdout"
        }
      ]
    }
  ]
}